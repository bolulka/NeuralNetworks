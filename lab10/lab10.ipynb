{
  "nbformat": 4,
  "nbformat_minor": 0,
  "metadata": {
    "colab": {
      "name": "lab10.ipynb",
      "provenance": [],
      "collapsed_sections": [],
      "authorship_tag": "ABX9TyNdbGwBy6sMzorqlwuczgfz",
      "include_colab_link": true
    },
    "kernelspec": {
      "name": "python3",
      "display_name": "Python 3"
    },
    "language_info": {
      "name": "python"
    },
    "accelerator": "GPU"
  },
  "cells": [
    {
      "cell_type": "markdown",
      "metadata": {
        "id": "view-in-github",
        "colab_type": "text"
      },
      "source": [
        "<a href=\"https://colab.research.google.com/github/bolulka/NeuralNetworks/blob/main/lab10/lab10.ipynb\" target=\"_parent\"><img src=\"https://colab.research.google.com/assets/colab-badge.svg\" alt=\"Open In Colab\"/></a>"
      ]
    },
    {
      "cell_type": "markdown",
      "metadata": {
        "id": "FDpbu03tsCEu"
      },
      "source": [
        "Лаб. 10.1\n",
        "Задание 1.  (из  тем  10.1–10.2):\n",
        "\n",
        "Обучите рекуррентную нейронную сеть распознаванию тональности отзывов на тестовых данных открытого набора данных imdb.\n",
        "\n",
        "Задание 2.  (из  тем  10.1–10.2):\n",
        "\n",
        "С использованием предварительно обученной нейронной сети определите тональность своего отзыва."
      ]
    },
    {
      "cell_type": "code",
      "metadata": {
        "id": "rtZf5kgssWqQ"
      },
      "source": [
        "import numpy as np\n",
        "from keras.preprocessing import sequence\n",
        "from keras.models import Sequential\n",
        "from keras.layers import Dense, Activation, Embedding\n",
        "from keras.layers import LSTM\n",
        "from keras.datasets import imdb\n",
        "\n",
        "np.random.seed(42)\n",
        "\n",
        "max_features = 5000\n",
        "\n",
        "(X_train, y_train), (X_test, y_test) = imdb.load_data(num_words=max_features)\n",
        "\n",
        "maxlen = 80\n",
        "\n",
        "X_train = sequence.pad_sequences(X_train, maxlen=maxlen)\n",
        "X_test = sequence.pad_sequences(X_test, maxlen=maxlen)\n",
        "\n",
        "model = Sequential()\n",
        "model.add(Embedding(max_features, 32))\n",
        "'''\n",
        "50 - 82.46%\n",
        "125 - 83.04%\n",
        "150 - 83.45%\n",
        "'''\n",
        "model.add(LSTM(150, dropout=0.2))\n",
        "model.add(Dense(1, activation='sigmoid'))\n",
        "\n",
        "'''\n",
        "adam - 83.08%\n",
        "sgd - 50.15%\n",
        "'''\n",
        "model.compile(loss='binary_crossentropy', optimizer='adam', metrics=['accuracy'])\n",
        "\n",
        "'''\n",
        "5 - 83.08%\n",
        "10 - 82.42%\n",
        "15 - 82.23%\n",
        "'''\n",
        "model.fit(X_train, y_train, batch_size=64, epochs=1, validation_data=(X_test, y_test), verbose=1)\n",
        "\n",
        "scores = model.evaluate(X_test, y_test, batch_size=64)\n",
        "print(\"Точность на тестовых данных: %.2f%%\" % (scores[1]*100))\n",
        "#83.66%\n",
        "\n",
        "model_json = model.to_json()\n",
        "json_file = open(\"model.json\", \"w\")\n",
        "json_file.write(model_json)\n",
        "json_file.close()\n",
        "model.save_weights(\"model.h5\")"
      ],
      "execution_count": null,
      "outputs": []
    },
    {
      "cell_type": "code",
      "metadata": {
        "colab": {
          "base_uri": "https://localhost:8080/"
        },
        "id": "9yxLwCexsbXx",
        "outputId": "8534305e-cb6c-45b2-9e70-969e2ea13dde"
      },
      "source": [
        "import numpy as np\n",
        "from keras.models import model_from_json\n",
        "from keras.preprocessing import text\n",
        "from keras.preprocessing import sequence\n",
        "\n",
        "json_file = open(\"model.json\", \"r\")\n",
        "loaded_model_json = json_file.read()\n",
        "json_file.close()\n",
        "loaded_model = model_from_json(loaded_model_json)\n",
        "loaded_model.load_weights(\"model.h5\")\n",
        "\n",
        "loaded_model.compile(loss='categorical_crossentropy', optimizer='sgd', metrics=['accuracy'])\n",
        "\n",
        "maxlen = 80\n",
        "review = 'a pretty nice movie to watch with family'\n",
        "words = text.text_to_word_sequence(review)\n",
        "dim = len(words)\n",
        "\n",
        "x = text.hashing_trick(review, dim, hash_function='md5')\n",
        "x = np.expand_dims(x, axis=0)\n",
        "x = sequence.pad_sequences(x, maxlen=maxlen)\n",
        "\n",
        "prediction = loaded_model.predict(x, verbose=0)\n",
        "print(prediction)\n"
      ],
      "execution_count": 12,
      "outputs": [
        {
          "output_type": "stream",
          "text": [
            "[[0.8960314]]\n"
          ],
          "name": "stdout"
        }
      ]
    },
    {
      "cell_type": "code",
      "metadata": {
        "id": "iZrf53jQr_4e"
      },
      "source": [
        "import keras\n",
        "from keras.datasets import imdb\n",
        "\n",
        "NUM_WORDS = 5000   # only use top 5000 words\n",
        "INDEX_FROM = 3   # word index offset\n",
        "\n",
        "(train_x, train_y), (test_x, test_y) = keras.datasets.imdb.load_data(\n",
        "        num_words=NUM_WORDS, index_from=INDEX_FROM)\n",
        "\n",
        "word_to_id = imdb.get_word_index()\n",
        "word_to_id = {k: (v+INDEX_FROM) for k, v in word_to_id.items()}\n",
        "word_to_id[\"<PAD>\"] = 0\n",
        "word_to_id[\"<START>\"] = 1\n",
        "word_to_id[\"<UNK>\"] = 2\n",
        "id_to_word = {value: key for key, value in word_to_id.items()}\n",
        "\n",
        "review_id = 25\n",
        "print(' '.join(id_to_word[num] for num in train_x[review_id]))\n"
      ],
      "execution_count": null,
      "outputs": []
    }
  ]
}