{
  "nbformat": 4,
  "nbformat_minor": 0,
  "metadata": {
    "colab": {
      "name": "lab8.ipynb",
      "provenance": [],
      "collapsed_sections": [],
      "authorship_tag": "ABX9TyPmlW7fUrAJiHclko6juN2M",
      "include_colab_link": true
    },
    "kernelspec": {
      "name": "python3",
      "display_name": "Python 3"
    },
    "language_info": {
      "name": "python"
    }
  },
  "cells": [
    {
      "cell_type": "markdown",
      "metadata": {
        "id": "view-in-github",
        "colab_type": "text"
      },
      "source": [
        "<a href=\"https://colab.research.google.com/github/bolulka/NeuralNetworks/blob/main/lab8/lab8.ipynb\" target=\"_parent\"><img src=\"https://colab.research.google.com/assets/colab-badge.svg\" alt=\"Open In Colab\"/></a>"
      ]
    },
    {
      "cell_type": "markdown",
      "metadata": {
        "id": "cSqIiNRQfB_Y"
      },
      "source": [
        "Лаб. 8.1\n",
        "Задание 1.  (из  темы  8.1):\n",
        "\n",
        "Используйте обученные сверточные нейронные сети для распознавания своих объектов и рукописных цифр.\n",
        "\n",
        "Задание 2.  (из  темы  8.2):\n",
        "\n",
        "Используйте предварительно обученную сеть VGG16 в Keras для распознавания своего изображения.\n",
        "\n",
        "Задание 3.  (из  темы  8.2):\n",
        "\n",
        "Используйте предварительно обученную сеть ResNet50 в Keras для распознавания своего изображения."
      ]
    },
    {
      "cell_type": "code",
      "metadata": {
        "id": "K-V79p5Jff1T",
        "colab": {
          "base_uri": "https://localhost:8080/",
          "height": 370
        },
        "outputId": "3d278f66-a4b3-43ef-cfbc-5b6693b5e1ec"
      },
      "source": [
        "import numpy as np\n",
        "from keras.models import model_from_json\n",
        "from keras.preprocessing import image\n",
        "import matplotlib.pyplot as plt\n",
        "\n",
        "json_file = open(\"cifar10_model.json\", \"r\")\n",
        "loaded_model_json = json_file.read()\n",
        "json_file.close()\n",
        "loaded_model = model_from_json(loaded_model_json)\n",
        "loaded_model.load_weights(\"cifar10_model.h5\")\n",
        "loaded_model.compile(loss='categorical_crossentropy', optimizer='sgd', metrics=['accuracy'])\n",
        "\n",
        "img_path = 'plane.jpg'\n",
        "img = image.load_img(img_path, target_size=(32, 32))\n",
        "\n",
        "x = image.img_to_array(img)\n",
        "x /= 255\n",
        "x = np.expand_dims(x, axis=0)\n",
        "\n",
        "prediction = loaded_model.predict(x)\n",
        "print(prediction)\n",
        "\n",
        "plt.imshow(img)\n",
        "plt.show()\n",
        "\n",
        "classes = ['самолет', 'автомобиль', 'птица', 'кот', 'олень', 'собака', 'лягушка', 'лошадь', 'корабль', 'грузовик']\n",
        "\n",
        "print(classes[np.argmax(prediction)])\n"
      ],
      "execution_count": 6,
      "outputs": [
        {
          "output_type": "stream",
          "text": [
            "WARNING:tensorflow:5 out of the last 5 calls to <function Model.make_predict_function.<locals>.predict_function at 0x7f91cf7a2c20> triggered tf.function retracing. Tracing is expensive and the excessive number of tracings could be due to (1) creating @tf.function repeatedly in a loop, (2) passing tensors with different shapes, (3) passing Python objects instead of tensors. For (1), please define your @tf.function outside of the loop. For (2), @tf.function has experimental_relax_shapes=True option that relaxes argument shapes that can avoid unnecessary retracing. For (3), please refer to https://www.tensorflow.org/guide/function#controlling_retracing and https://www.tensorflow.org/api_docs/python/tf/function for  more details.\n",
            "[[9.78817403e-01 2.45474773e-14 2.11724397e-02 1.55320354e-10\n",
            "  1.01442938e-05 7.17105750e-14 2.46677158e-11 1.47949619e-13\n",
            "  3.19210103e-10 1.06539106e-13]]\n"
          ],
          "name": "stdout"
        },
        {
          "output_type": "display_data",
          "data": {
            "image/png": "[encoded data removed]",
            "text/plain": [
              "<Figure size 432x288 with 1 Axes>"
            ]
          },
          "metadata": {
            "tags": [],
            "needs_background": "light"
          }
        },
        {
          "output_type": "stream",
          "text": [
            "самолет\n"
          ],
          "name": "stdout"
        }
      ]
    },
    {
      "cell_type": "code",
      "metadata": {
        "id": "bkuRnmBafYd_",
        "colab": {
          "base_uri": "https://localhost:8080/"
        },
        "outputId": "bceec680-cd4a-45a2-ba57-85d889b877ad"
      },
      "source": [
        "import numpy as np\n",
        "from keras.preprocessing import image\n",
        "from keras.models import model_from_json\n",
        "import matplotlib.pyplot as plt\n",
        "\n",
        "json_file = open(\"mnist_model.json\", \"r\")\n",
        "loaded_model_json = json_file.read()\n",
        "json_file.close()\n",
        "loaded_model = model_from_json(loaded_model_json)\n",
        "loaded_model.load_weights(\"mnist_model.h5\")\n",
        "loaded_model.compile(loss=\"categorical_crossentropy\", optimizer=\"adam\", metrics=[\"accuracy\"])\n",
        "\n",
        "img_path = '4.png'\n",
        "img = image.load_img(img_path, target_size=(28, 28), color_mode = \"grayscale\")\n",
        "# plt.imshow(img, cmap='gray')\n",
        "# plt.show()\n",
        "x = image.img_to_array(img)\n",
        "x = np.array([\n",
        "    [255 - pixel[0] for row in x for pixel in row]\n",
        "], 'float32')\n",
        "x /= 255\n",
        "\n",
        "prediction = loaded_model.predict(x)\n",
        "\n",
        "print(np.argmax(prediction))\n"
      ],
      "execution_count": 7,
      "outputs": [
        {
          "output_type": "stream",
          "text": [
            "WARNING:tensorflow:6 out of the last 6 calls to <function Model.make_predict_function.<locals>.predict_function at 0x7f91ceede560> triggered tf.function retracing. Tracing is expensive and the excessive number of tracings could be due to (1) creating @tf.function repeatedly in a loop, (2) passing tensors with different shapes, (3) passing Python objects instead of tensors. For (1), please define your @tf.function outside of the loop. For (2), @tf.function has experimental_relax_shapes=True option that relaxes argument shapes that can avoid unnecessary retracing. For (3), please refer to https://www.tensorflow.org/guide/function#controlling_retracing and https://www.tensorflow.org/api_docs/python/tf/function for  more details.\n",
            "4\n"
          ],
          "name": "stdout"
        }
      ]
    },
    {
      "cell_type": "code",
      "metadata": {
        "id": "XiMlp7K7fWIk",
        "colab": {
          "base_uri": "https://localhost:8080/"
        },
        "outputId": "4b043d80-8786-489e-a147-52dcd791c22d"
      },
      "source": [
        "from keras.applications.vgg16 import VGG16\n",
        "from keras.preprocessing import image\n",
        "from keras.applications.vgg16 import preprocess_input, decode_predictions\n",
        "import numpy as np\n",
        "\n",
        "model = VGG16(weights='imagenet')\n",
        "\n",
        "img = image.load_img('cat.jpeg', target_size=(224, 224))\n",
        "x = image.img_to_array(img)\n",
        "x = np.expand_dims(x, axis=0)\n",
        "x = preprocess_input(x)\n",
        "\n",
        "preds = model.predict(x)\n",
        "\n",
        "print('Результаты распознавания:', decode_predictions(preds, top=3)[0])\n",
        "# Результаты распознавания:\n",
        "# [('n02127052', 'lynx', 0.764345), ('n02123159', 'tiger_cat', 0.13802426), ('n02123045', 'tabby', 0.063415304)]\n"
      ],
      "execution_count": 8,
      "outputs": [
        {
          "output_type": "stream",
          "text": [
            "Downloading data from https://storage.googleapis.com/tensorflow/keras-applications/vgg16/vgg16_weights_tf_dim_ordering_tf_kernels.h5\n",
            "553467904/553467096 [==============================] - 4s 0us/step\n",
            "WARNING:tensorflow:7 out of the last 7 calls to <function Model.make_predict_function.<locals>.predict_function at 0x7f91ceede830> triggered tf.function retracing. Tracing is expensive and the excessive number of tracings could be due to (1) creating @tf.function repeatedly in a loop, (2) passing tensors with different shapes, (3) passing Python objects instead of tensors. For (1), please define your @tf.function outside of the loop. For (2), @tf.function has experimental_relax_shapes=True option that relaxes argument shapes that can avoid unnecessary retracing. For (3), please refer to https://www.tensorflow.org/guide/function#controlling_retracing and https://www.tensorflow.org/api_docs/python/tf/function for  more details.\n",
            "Downloading data from https://storage.googleapis.com/download.tensorflow.org/data/imagenet_class_index.json\n",
            "40960/35363 [==================================] - 0s 0us/step\n",
            "Результаты распознавания: [('n02127052', 'lynx', 0.764345), ('n02123159', 'tiger_cat', 0.13802412), ('n02123045', 'tabby', 0.06341542)]\n"
          ],
          "name": "stdout"
        }
      ]
    },
    {
      "cell_type": "code",
      "metadata": {
        "id": "CWuCgKm6fA7f",
        "colab": {
          "base_uri": "https://localhost:8080/"
        },
        "outputId": "c1293a00-a15e-4d45-af42-a4e0796126cc"
      },
      "source": [
        "from keras.applications.resnet50 import ResNet50\n",
        "from keras.preprocessing import image\n",
        "from keras.applications.vgg16 import preprocess_input, decode_predictions\n",
        "import numpy as np\n",
        "\n",
        "model = ResNet50(weights='imagenet')\n",
        "\n",
        "img = image.load_img('cat.jpeg', target_size=(224, 224))\n",
        "x = image.img_to_array(img)\n",
        "x = np.expand_dims(x, axis=0)\n",
        "x = preprocess_input(x)\n",
        "\n",
        "preds = model.predict(x)\n",
        "\n",
        "print('Результаты распознавания:', decode_predictions(preds, top=3)[0])\n",
        "# Результаты распознавания:\n",
        "# [('n02127052', 'lynx', 0.35676384), ('n02123159', 'tiger_cat', 0.2503496), ('n02123045', 'tabby', 0.2361157)]"
      ],
      "execution_count": 9,
      "outputs": [
        {
          "output_type": "stream",
          "text": [
            "Downloading data from https://storage.googleapis.com/tensorflow/keras-applications/resnet/resnet50_weights_tf_dim_ordering_tf_kernels.h5\n",
            "102973440/102967424 [==============================] - 1s 0us/step\n",
            "WARNING:tensorflow:8 out of the last 8 calls to <function Model.make_predict_function.<locals>.predict_function at 0x7f91cd7dbb90> triggered tf.function retracing. Tracing is expensive and the excessive number of tracings could be due to (1) creating @tf.function repeatedly in a loop, (2) passing tensors with different shapes, (3) passing Python objects instead of tensors. For (1), please define your @tf.function outside of the loop. For (2), @tf.function has experimental_relax_shapes=True option that relaxes argument shapes that can avoid unnecessary retracing. For (3), please refer to https://www.tensorflow.org/guide/function#controlling_retracing and https://www.tensorflow.org/api_docs/python/tf/function for  more details.\n",
            "Результаты распознавания: [('n02127052', 'lynx', 0.34761113), ('n02123159', 'tiger_cat', 0.27828816), ('n02123045', 'tabby', 0.2454477)]\n"
          ],
          "name": "stdout"
        }
      ]
    }
  ]
}