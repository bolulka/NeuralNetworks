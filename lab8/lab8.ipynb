{
  "nbformat": 4,
  "nbformat_minor": 0,
  "metadata": {
    "colab": {
      "name": "lab8.ipynb",
      "provenance": [],
      "collapsed_sections": [],
      "authorship_tag": "ABX9TyOnfCtsAZhMUjZpAeD24c6X",
      "include_colab_link": true
    },
    "kernelspec": {
      "name": "python3",
      "display_name": "Python 3"
    },
    "language_info": {
      "name": "python"
    }
  },
  "cells": [
    {
      "cell_type": "markdown",
      "metadata": {
        "id": "view-in-github",
        "colab_type": "text"
      },
      "source": [
        "<a href=\"https://colab.research.google.com/github/bolulka/NeuralNetworks/blob/main/lab8/lab8.ipynb\" target=\"_parent\"><img src=\"https://colab.research.google.com/assets/colab-badge.svg\" alt=\"Open In Colab\"/></a>"
      ]
    },
    {
      "cell_type": "markdown",
      "metadata": {
        "id": "cSqIiNRQfB_Y"
      },
      "source": [
        "Лаб. 8.1\n",
        "Задание 1.  (из  темы  8.1):\n",
        "\n",
        "Используйте обученные сверточные нейронные сети для распознавания своих объектов и рукописных цифр.\n",
        "\n",
        "Задание 2.  (из  темы  8.2):\n",
        "\n",
        "Используйте предварительно обученную сеть VGG16 в Keras для распознавания своего изображения.\n",
        "\n",
        "Задание 3.  (из  темы  8.2):\n",
        "\n",
        "Используйте предварительно обученную сеть ResNet50 в Keras для распознавания своего изображения."
      ]
    },
    {
      "cell_type": "code",
      "metadata": {
        "id": "K-V79p5Jff1T"
      },
      "source": [
        "import numpy as np\n",
        "from keras.models import model_from_json\n",
        "from keras.preprocessing import image\n",
        "\n",
        "json_file = open(\"cifar10_model.json\", \"r\")\n",
        "loaded_model_json = json_file.read()\n",
        "json_file.close()\n",
        "loaded_model = model_from_json(loaded_model_json)\n",
        "loaded_model.load_weights(\"cifar10_model.h5\")\n",
        "loaded_model.compile(loss='categorical_crossentropy', optimizer='sgd', metrics=['accuracy'])\n",
        "\n",
        "img_path = 'plane.jpg'\n",
        "img = image.load_img(img_path, target_size=(32, 32))\n",
        "\n",
        "x = image.img_to_array(img)\n",
        "x /= 255\n",
        "x = np.expand_dims(x, axis=0)\n",
        "\n",
        "prediction = loaded_model.predict(x)\n",
        "print(prediction)\n",
        "\n",
        "# plt.imshow(img)\n",
        "# plt.show()\n",
        "\n",
        "classes = ['самолет', 'автомобиль', 'птица', 'кот', 'олень', 'собака', 'лягушка', 'лошадь', 'корабль', 'грузовик']\n",
        "\n",
        "print(classes[np.argmax(prediction)])\n"
      ],
      "execution_count": null,
      "outputs": []
    },
    {
      "cell_type": "code",
      "metadata": {
        "id": "bkuRnmBafYd_"
      },
      "source": [
        "import numpy as np\n",
        "from keras.preprocessing import image\n",
        "from keras.models import model_from_json\n",
        "import matplotlib.pyplot as plt\n",
        "\n",
        "json_file = open(\"mnist_model.json\", \"r\")\n",
        "loaded_model_json = json_file.read()\n",
        "json_file.close()\n",
        "loaded_model = model_from_json(loaded_model_json)\n",
        "loaded_model.load_weights(\"mnist_model.h5\")\n",
        "loaded_model.compile(loss=\"categorical_crossentropy\", optimizer=\"adam\", metrics=[\"accuracy\"])\n",
        "\n",
        "img_path = '4.png'\n",
        "img = image.load_img(img_path, target_size=(28, 28), color_mode = \"grayscale\")\n",
        "# plt.imshow(img, cmap='gray')\n",
        "# plt.show()\n",
        "x = image.img_to_array(img)\n",
        "x = np.array([\n",
        "    [255 - pixel[0] for row in x for pixel in row]\n",
        "], 'float32')\n",
        "x /= 255\n",
        "\n",
        "prediction = loaded_model.predict(x)\n",
        "\n",
        "print(np.argmax(prediction))\n"
      ],
      "execution_count": null,
      "outputs": []
    },
    {
      "cell_type": "code",
      "metadata": {
        "id": "XiMlp7K7fWIk"
      },
      "source": [
        "from keras.applications.vgg16 import VGG16\n",
        "from keras.preprocessing import image\n",
        "from keras.applications.vgg16 import preprocess_input, decode_predictions\n",
        "import numpy as np\n",
        "\n",
        "model = VGG16(weights='imagenet')\n",
        "\n",
        "img = image.load_img('cat.jpeg', target_size=(224, 224))\n",
        "x = image.img_to_array(img)\n",
        "x = np.expand_dims(x, axis=0)\n",
        "x = preprocess_input(x)\n",
        "\n",
        "preds = model.predict(x)\n",
        "\n",
        "print('Результаты распознавания:', decode_predictions(preds, top=3)[0])\n",
        "# Результаты распознавания:\n",
        "# [('n02127052', 'lynx', 0.764345), ('n02123159', 'tiger_cat', 0.13802426), ('n02123045', 'tabby', 0.063415304)]\n"
      ],
      "execution_count": null,
      "outputs": []
    },
    {
      "cell_type": "code",
      "metadata": {
        "id": "CWuCgKm6fA7f"
      },
      "source": [
        "from keras.applications.resnet50 import ResNet50\n",
        "from keras.preprocessing import image\n",
        "from keras.applications.vgg16 import preprocess_input, decode_predictions\n",
        "import numpy as np\n",
        "\n",
        "model = ResNet50(weights='imagenet')\n",
        "\n",
        "img = image.load_img('cat.jpeg', target_size=(224, 224))\n",
        "x = image.img_to_array(img)\n",
        "x = np.expand_dims(x, axis=0)\n",
        "x = preprocess_input(x)\n",
        "\n",
        "preds = model.predict(x)\n",
        "\n",
        "print('Результаты распознавания:', decode_predictions(preds, top=3)[0])\n",
        "# Результаты распознавания:\n",
        "# [('n02127052', 'lynx', 0.35676384), ('n02123159', 'tiger_cat', 0.2503496), ('n02123045', 'tabby', 0.2361157)]"
      ],
      "execution_count": null,
      "outputs": []
    }
  ]
}