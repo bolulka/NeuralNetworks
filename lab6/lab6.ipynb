{
  "nbformat": 4,
  "nbformat_minor": 0,
  "metadata": {
    "colab": {
      "name": "lab6.ipynb",
      "provenance": [],
      "collapsed_sections": []
    },
    "kernelspec": {
      "name": "python3",
      "display_name": "Python 3"
    },
    "language_info": {
      "name": "python"
    }
  },
  "cells": [
    {
      "cell_type": "markdown",
      "metadata": {
        "id": "afOCmdF7G9LA"
      },
      "source": [
        "Задание 1.  (из  темы  6.1):\n",
        "\n",
        "Сохраните обученую нейронную сеть распознавания рукописных цифр.\n",
        "(сохранено в лаб5)\n",
        "\n",
        "Задание 2.  (из  темы  6.1):\n",
        "\n",
        "Загрузите сохраненную нейронную сеть распознавания рукописных цифр. Проверьте точность загруженной сети на тестовых данных.\n",
        "\n",
        "Задание 3  (из темы 6.1):\n",
        "\n",
        "Используйте загруженную сеть для распознавания созданной Вами рукописной цифры, равной числу букв в Вашем имени.\n"
      ]
    },
    {
      "cell_type": "code",
      "metadata": {
        "colab": {
          "base_uri": "https://localhost:8080/"
        },
        "id": "bIdkIQXcGeuN",
        "outputId": "9c2d9b46-3548-44f2-b443-d782eb2da5b5"
      },
      "source": [
        "import numpy\n",
        "from keras.models import model_from_json\n",
        "from keras.datasets import mnist\n",
        "from keras.utils import np_utils\n",
        "from PIL import Image\n",
        "\n",
        "# Загружаем данные об архитектуре сети из файла json\n",
        "json_filename = \"mnist_model.json\"\n",
        "with open(json_filename, \"r\") as json_file:\n",
        "    loaded_model_json = json_file.read()\n",
        "json_file.close()\n",
        "\n",
        "# Создаем модель на основе загруженных данных\n",
        "model = model_from_json(loaded_model_json)\n",
        "\n",
        "# Загружаем веса в модель\n",
        "h5_filename = \"mnist_model.h5\"\n",
        "model.load_weights(h5_filename)\n",
        "\n",
        "# Перед использованием загруженной нейронной сети необходимо её скомпилировать\n",
        "model.compile(loss=\"categorical_crossentropy\", optimizer=\"SGD\", \n",
        "              metrics=[\"accuracy\"])\n",
        "\n",
        "# Вывести начальные характеристики нейросети\n",
        "print(model.summary())\n",
        "\n",
        "# Данные для тестирования загруженной нейронной сети\n",
        "_, (x_test, y_test) = mnist.load_data()\n",
        "X_test = x_test.reshape(10000, 784)\n",
        "X_test = X_test.astype('float32')\n",
        "X_test /= 255\n",
        "Y_test = np_utils.to_categorical(y_test, 10)\n",
        "\n",
        "# Оцениваем качество обучения сети на тестовых данных\n",
        "scores = model.evaluate(X_test, Y_test, verbose=0)\n",
        "print(\"Точность работы на тестовых данных : %.2f%%\" % (scores[1] * 100))\n",
        "\n",
        "#Загрузка чёрно-белого изображения 28х28, на котором изображена цифра\n",
        "pic_name = \"lab6.png\"\n",
        "img = Image.open(pic_name)\n",
        "\n",
        "# Преобразование этой картинки в массив нужной размерности согласно её RGB \n",
        "# схеме (белый пиксель - это (255, 255, 255), чёрный - (0, 0, 0)). Для \n",
        "# изображения png размерность этого массива составит (28, 28, 3)\n",
        "arr = numpy.array(img)\n",
        "\n",
        "# Составление нового массива размерности (1, 784) (тут уже 0 - это белый цвет, \n",
        "# 255 - чёрный)\n",
        "new_arr = numpy.array([\n",
        "        [255 - pixel[0] for row in arr for pixel in row]\n",
        "        ], 'float32')\n",
        "    \n",
        "# Нормировка данных\n",
        "new_arr /= 255\n",
        "\n",
        "# Работа загруженной нейронной сети со сформированным массивом пикселей\n",
        "result = model.predict(new_arr)\n",
        "for i, perc in enumerate(numpy.round(100 * result)[0]):\n",
        "    print(\"%d: %d%%\" % (i, perc))\n",
        "print(\"result = %d\" % numpy.argmax(result))\n"
      ],
      "execution_count": 3,
      "outputs": [
        {
          "output_type": "stream",
          "text": [
            "Model: \"sequential_1\"\n",
            "_________________________________________________________________\n",
            "Layer (type)                 Output Shape              Param #   \n",
            "=================================================================\n",
            "dense_1 (Dense)              (None, 1200)              942000    \n",
            "_________________________________________________________________\n",
            "dense_2 (Dense)              (None, 1200)              1441200   \n",
            "_________________________________________________________________\n",
            "dense_3 (Dense)              (None, 10)                12010     \n",
            "=================================================================\n",
            "Total params: 2,395,210\n",
            "Trainable params: 2,395,210\n",
            "Non-trainable params: 0\n",
            "_________________________________________________________________\n",
            "None\n",
            "Точность работы на тестовых данных : 98.00%\n",
            "0: 0%\n",
            "1: 1%\n",
            "2: 1%\n",
            "3: 0%\n",
            "4: 87%\n",
            "5: 1%\n",
            "6: 0%\n",
            "7: 9%\n",
            "8: 0%\n",
            "9: 0%\n",
            "result = 4\n"
          ],
          "name": "stdout"
        }
      ]
    },
    {
      "cell_type": "markdown",
      "metadata": {
        "id": "h3mdL9hoHT1X"
      },
      "source": [
        "\n"
      ]
    }
  ]
}